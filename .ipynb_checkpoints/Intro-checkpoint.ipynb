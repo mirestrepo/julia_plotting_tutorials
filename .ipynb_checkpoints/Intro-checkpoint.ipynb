{
 "cells": [
  {
   "cell_type": "markdown",
   "metadata": {
    "slideshow": {
     "slide_type": "slide"
    }
   },
   "source": [
    "## Plotting with Julia (and Jupyter)\n",
    "\n",
    "<span style=\"font-size:1em; color:gray\">Isabel Restrepo, PhD</span> |\n",
    "<span style=\"font-size:1em; color:gray\">Brown University</span> |\n",
    "<span style=\"font-size:1em; color:gray\">July 20, 2018</span>"
   ]
  },
  {
   "cell_type": "code",
   "execution_count": null,
   "metadata": {
    "collapsed": true
   },
   "outputs": [],
   "source": []
  },
  {
   "cell_type": "markdown",
   "metadata": {
    "slideshow": {
     "slide_type": "slide"
    }
   },
   "source": [
    "![jupyter](./jupyter1.png)"
   ]
  },
  {
   "cell_type": "markdown",
   "metadata": {
    "slideshow": {
     "slide_type": "slide"
    }
   },
   "source": [
    "# JUPYTER - NBVIEWER - BINDER\n",
    "\n",
    "(and Present it! RiSE)\n",
    "\n",
    "![jupyter](./jupyter2.png)"
   ]
  },
  {
   "cell_type": "markdown",
   "metadata": {
    "slideshow": {
     "slide_type": "slide"
    }
   },
   "source": [
    "### Installation and using it with Julia\n",
    "\n",
    "```julia\n",
    "Pkg.add(\"IJulia\")\n",
    "using IJulia\n",
    "IJulia.notebook()\n",
    "```\n",
    "\n",
    "Other options\n",
    "\n",
    "```julia\n",
    "IJulia.notebook(dir=pwd())\n",
    "IJulia.notebook(detached=true)\n",
    "```\n"
   ]
  },
  {
   "cell_type": "markdown",
   "metadata": {
    "slideshow": {
     "slide_type": "slide"
    }
   },
   "source": [
    "## Libraries\n",
    "\n",
    "List in Julia's [homepage](https://julialang.org/downloads/plotting.html)\n",
    "\n",
    "* [Plots.jl](https://github.com/JuliaPlots/Plots.jl) Julia's solution\n",
    "* [PyPlot.jl](https://github.com/JuliaPy/PyPlot.jl)  Matplotlib (python) --> Matlab\n",
    "* [Gadfly.jl](https://github.com/GiovineItalia/Gadfly.jl) R's ggplot"
   ]
  },
  {
   "cell_type": "markdown",
   "metadata": {
    "slideshow": {
     "slide_type": "slide"
    }
   },
   "source": [
    "### The Wild West?\n",
    "\n",
    "(What I may recommend)\n",
    "* [PlotlyJS.jl](https://github.com/sglyon/PlotlyJS.jl) JavaScript - Interactive\n",
    "* [Seaborn.jl](https://github.com/JuliaPy/Seaborn.jl) Python - Statistics\n",
    "* [VegaLite.jl](https://github.com/fredo-dedup/VegaLite.jl) JavaScript - Interactive. 🆕\n",
    "* [PGFPlotsX.jl](https://github.com/KristofferC/PGFPlotsX.jl) Latex, improves on performance. 🆕"
   ]
  },
  {
   "cell_type": "markdown",
   "metadata": {
    "slideshow": {
     "slide_type": "slide"
    }
   },
   "source": [
    "### The list continues ...\n",
    "* [Makie.jl](https://github.com/JuliaPlots/Makie.jl) Crazy GPU Graphics\n",
    "* [GLVisualize.jl](https://github.com/JuliaGL/GLVisualize.jl) Makie's ancestor\n",
    "* [Vega.jl](https://github.com/johnmyleswhite/Vega.jl) Vega's ancestor\n",
    "* [PGFPlots.jl](https://github.com/sisl/PGFPlots.jl) Latex\n",
    "* [GR.jl](https://github.com/jheinen/GR.jl) Simple and fast. Some love it"
   ]
  },
  {
   "cell_type": "markdown",
   "metadata": {
    "slideshow": {
     "slide_type": "slide"
    }
   },
   "source": [
    "### What to use?\n",
    "\n",
    "Taken from Julias [Discourse](https://discourse.julialang.org/t/where-is-actual-development-in-plotting/6224/45?u=mirestrepo)\n",
    "\n",
    "**Gadfly**\n",
    "A beatiful and very well-functioning graphics package using the grammar-of-graphics interface, the interface that dominates R.\n",
    "\n",
    "**PyPlot**\n",
    "A feature-complete representation of matplotlib, one of the best and most iconic plotting libraries in any programming language.\n",
    "\n",
    "**Plotly(JS)**\n",
    "A featurecomplete julia version of one of the prettiest and most modern cross-language plotting libraries out there.\n",
    "\n",
    "**GR**\n",
    "Stable, mature, very fast cross-platform library.\n",
    "\n",
    "**Plots**\n",
    "A distinctly julian plotting solution, based on ecosystem integration, a macro-based DSL, an ultra-light dependency, multible dispatch and type awareness. A much newer project, but very focused on intuitiveness in the interface and generating coherence in the package ecosystem."
   ]
  },
  {
   "cell_type": "markdown",
   "metadata": {
    "slideshow": {
     "slide_type": "slide"
    }
   },
   "source": [
    "## Plan for today:\n",
    "\n",
    "* Basics of PlotlyJS.jl\n",
    "* Live coding with adult.data\n",
    "\n",
    "### What to explore after ?\n",
    "\n",
    "* There are starters for Plots, PyPlot, Seaborn and Gadfly... \n",
    "* VegaLite and PGFPlotsX\n",
    "* Seaborn tutorials for [Distributions](http://seaborn.pydata.org/tutorial/distributions.html#distribution-tutorial)\n",
    "and [Categorical Variables](http://seaborn.pydata.org/tutorial/categorical.html#categorical-tutorial)"
   ]
  }
 ],
 "metadata": {
  "celltoolbar": "Slideshow",
  "kernelspec": {
   "display_name": "Julia 0.6.2",
   "language": "julia",
   "name": "julia-0.6"
  },
  "language_info": {
   "file_extension": ".jl",
   "mimetype": "application/julia",
   "name": "julia",
   "version": "0.6.2"
  }
 },
 "nbformat": 4,
 "nbformat_minor": 2
}
